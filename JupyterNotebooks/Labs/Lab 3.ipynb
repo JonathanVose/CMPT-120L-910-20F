{
 "metadata": {
  "language_info": {
   "codemirror_mode": {
    "name": "ipython",
    "version": 3
   },
   "file_extension": ".py",
   "mimetype": "text/x-python",
   "name": "python",
   "nbconvert_exporter": "python",
   "pygments_lexer": "ipython3",
   "version": "3.8.5-final"
  },
  "orig_nbformat": 2,
  "kernelspec": {
   "name": "python_defaultSpec_1600214971716",
   "display_name": "Python 3.8.5 64-bit"
  }
 },
 "nbformat": 4,
 "nbformat_minor": 2,
 "cells": [
  {
   "source": [
    "# Lab Three\n",
    "---\n",
    "\n",
    "For this lab we're going to be making and using a bunch of functions. \n",
    "\n",
    "Our Goals are:\n",
    "- Searching our Documentation\n",
    "- Using built in functions\n",
    "- Making our own functions\n",
    "- Combining functions\n",
    "- Structuring solutions"
   ],
   "cell_type": "markdown",
   "metadata": {}
  },
  {
   "cell_type": "code",
   "execution_count": 1,
   "metadata": {},
   "outputs": [],
   "source": [
    "# For the following built in functions we didn't touch on them in class. I want you to look for them in the python documentation and implement them."
   ]
  },
  {
   "cell_type": "code",
   "execution_count": 3,
   "metadata": {
    "tags": []
   },
   "outputs": [
    {
     "output_type": "stream",
     "name": "stdout",
     "text": "hEy THerE hOWs It gOing\n"
    }
   ],
   "source": [
    "# I want you to find a built in function to SWAP CASE on a string. Print it.\n",
    "\n",
    "# For example the string \"HeY thERe HowS iT GoING\" turns into \"hEy THerE hOWs It gOing\"\n",
    "\n",
    "sample_string = \"HeY thERe HowS iT GoING\"\n",
    "sample_string = sample_string.swapcase()\n",
    "print(sample_string)"
   ]
  },
  {
   "cell_type": "code",
   "execution_count": 70,
   "metadata": {
    "tags": []
   },
   "outputs": [
    {
     "output_type": "stream",
     "name": "stdout",
     "text": "----Hey There----\n"
    }
   ],
   "source": [
    "# I want you to find a built in function to CENTER a string and pad the sides with 4 dashes(-) a side. Print it.\n",
    "\n",
    "# For example the string \"Hey There\" becomes \"----Hey There----\"\n",
    "\n",
    "sample_string = \"Hey There\"\n",
    "total = 0\n",
    "for char in sample_string:\n",
    "    total += 1\n",
    "total = total + 8\n",
    "sample_string = sample_string.center(total,\"-\")\n",
    "print(sample_string)\n",
    "\n",
    "# I realize that I did more than the question asked. However, this code now allows me to change the words in sample_string and center it with 4 dashes on each side. Additionally, I did this so I can remember to include the length of the string when using the center function."
   ]
  },
  {
   "cell_type": "code",
   "execution_count": 69,
   "metadata": {
    "tags": []
   },
   "outputs": [
    {
     "output_type": "stream",
     "name": "stdout",
     "text": "('abcdefg', '.', 'hijklmnop')\n"
    }
   ],
   "source": [
    "# I want you to find a built in function to PARTITION a string. Print it.\n",
    "\n",
    "# For example the string \"abcdefg.hijklmnop\" would come out to be [\"abcdefg\",\".\",\"hijklmnop\"]\n",
    "\n",
    "sample_string = \"abcdefg.hijklmnop\"\n",
    "sample_string = sample_string.partition(\".\")\n",
    "print(sample_string)\n"
   ]
  },
  {
   "cell_type": "code",
   "execution_count": 75,
   "metadata": {
    "tags": []
   },
   "outputs": [
    {
     "output_type": "stream",
     "name": "stdout",
     "text": "8\n"
    }
   ],
   "source": [
    "# I want you to write a function that will take in a number and raise it to the power given. \n",
    "\n",
    "# For example if given the numbers 2 and 3. The math that the function should do is 2^3 and should print out or return 8. Print the output.\n",
    "\n",
    "def exponents (base,power):\n",
    "    result = base ** power\n",
    "    return result\n",
    "\n",
    "number_1 = int(input(\"Please enter the base number: \")) \n",
    "number_2 = int(input(\"Please enter the exponent number: \"))\n",
    "\n",
    "answer = exponents(number_1,number_2)\n",
    "\n",
    "print(answer)\n"
   ]
  },
  {
   "cell_type": "code",
   "execution_count": 28,
   "metadata": {
    "tags": []
   },
   "outputs": [
    {
     "output_type": "stream",
     "name": "stdout",
     "text": "[2]\n[2, 3]\n[2, 3, 5]\n[2, 3, 5, 5]\n[2, 3, 5, 5, 2]\n[2, 3, 5, 5, 2, 3]\n[2, 3, 5, 5, 2, 3, 6]\n[2, 3, 5, 5, 2, 3, 6, 7]\n[2, 3, 5, 5, 2, 3, 6, 7, 8]\n[2, 3, 5, 5, 2, 3, 6, 7, 8, 2]\n \n3\n"
    }
   ],
   "source": [
    "# I want you to write a function that will take in a list and see how many times a given number is in the list. \n",
    "\n",
    "# For example if the array given is [2,3,5,2,3,6,7,8,2] and the number given is 2 the function should print out or return 3. Print the output.\n",
    "\n",
    "def count (inputed_array, inputed_number):\n",
    "    total = 0\n",
    "    for num in inputed_array:\n",
    "        if num == inputed_number:\n",
    "            total += 1\n",
    "    return total\n",
    "\n",
    "user_array = []\n",
    "again = \"yes\"\n",
    "\n",
    "while again == \"yes\":\n",
    "    user_array.append(int(input(\"Please enter a number to add to your array: \")))\n",
    "    print(user_array)\n",
    "    again = str(input(\"Please enter yes if you would like to add another number to your array: \"))\n",
    "    again = again.lower()\n",
    "\n",
    "user_number = int(input(\"Please enter a number to count in your array: \"))\n",
    "\n",
    "times = count(user_array,user_number)\n",
    "\n",
    "print(\" \")\n",
    "print(times)\n",
    "\n",
    "\n"
   ]
  },
  {
   "cell_type": "code",
   "execution_count": 36,
   "metadata": {
    "tags": []
   },
   "outputs": [
    {
     "output_type": "stream",
     "name": "stdout",
     "text": "The slope is: 1.0\n"
    }
   ],
   "source": [
    "# Use the functions given to create a slope function. The function should be named slope and have 4 parameters.\n",
    "\n",
    "# If you don't remember the slope formula is (y2 - y1) / (x2 - x1) If this doesn't make sense look up `Slope Formula` on google.\n",
    "\n",
    "def division(x, y):\n",
    "    return x / y\n",
    "\n",
    "def subtraction(x, y):\n",
    "    return x - y\n",
    "\n",
    "def slope_func(y1,y2,x1,x2):\n",
    "    numerator = subtraction(y1,y2)\n",
    "    denominator = subtraction(x1,x2)\n",
    "    slope = division(numerator,denominator)\n",
    "    return slope\n",
    "\n",
    "test_value = slope_func(1,2,1,2)\n",
    "print(\"The slope is: \" + str(test_value))"
   ]
  },
  {
   "cell_type": "code",
   "execution_count": 47,
   "metadata": {
    "tags": []
   },
   "outputs": [
    {
     "output_type": "stream",
     "name": "stdout",
     "text": "1.414\n"
    }
   ],
   "source": [
    "# Use the functions given to create a distance function. The function should be named function and have 4 parameters.\n",
    "\n",
    "# HINT: You'll need a built in function here too. You'll also be able to use function written earlier in the notebook as long as you've run those cells.\n",
    "\n",
    "# If you don't remember the distance formula is the square root of the following ((x2 - x1)^2 + (y2 - y1)^2). If this doesn't make sense look up `Distance Formula` on google.\n",
    "\n",
    "import math\n",
    "\n",
    "def addition(x, y):\n",
    "    return x + y\n",
    " \n",
    "def distance_formula(x1,x2,y1,y2):\n",
    "    x_value = (subtraction(x1,x2)) ** 2\n",
    "    y_value = (subtraction(y1,y2)) ** 2\n",
    "    distance_answ = addition(x_value,y_value)\n",
    "    distance_answ = math.sqrt(distance_answ)\n",
    "    return(distance_answ)\n",
    "\n",
    "answer = distance_formula(2,1,2,1)\n",
    "print(round(answer,3))\n"
   ]
  }
 ]
}