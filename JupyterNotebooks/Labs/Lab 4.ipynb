{
 "metadata": {
  "language_info": {
   "codemirror_mode": {
    "name": "ipython",
    "version": 3
   },
   "file_extension": ".py",
   "mimetype": "text/x-python",
   "name": "python",
   "nbconvert_exporter": "python",
   "pygments_lexer": "ipython3",
   "version": "3.8.5-final"
  },
  "orig_nbformat": 2,
  "kernelspec": {
   "name": "Python 3.8.5 64-bit",
   "display_name": "Python 3.8.5 64-bit",
   "metadata": {
    "interpreter": {
     "hash": "aee8b7b246df8f9039afb4144a1f6fd8d2ca17a180786b69acc140d282b71a49"
    }
   }
  }
 },
 "nbformat": 4,
 "nbformat_minor": 2,
 "cells": [
  {
   "source": [
    "# Lab Four\n",
    "---\n",
    "\n",
    "For this lab we're going to be messing around with Markdown!\n",
    "\n",
    "Our Goals are:\n",
    "- Using Markdown!\n",
    "\n",
    "I want you to describe to me your process of converting the assignment and making it DRY. \n",
    "\n",
    "Please show the ability to:\n",
    "- Make a header\n",
    "- Make a list (ordered or unordered)\n",
    "- Link the Markdown Guide from the lesson. \n",
    "- Artuculate your thought process."
   ],
   "cell_type": "markdown",
   "metadata": {}
  },
  {
   "source": [
    "# Converting Wet Code to Dry Code\n",
    "---\n",
    "\n",
    "### Thought Process\n",
    "1. I initially examined the wet code to find repetitive sections of code\n",
    "\n",
    "2. Once I found several repetitive functions I had two choices\n",
    "\n",
    "    1. **Create individual functions for each operation**\n",
    "    2. **Create one function**\n",
    "\n",
    "3. At first I attempted to write two functions (one for a positive value and one for a negative value). I quickly realized that by doing this I wrote a ton of code\n",
    "\n",
    "5. I then began to think of a way to minimize the number of lines used in this program\n",
    "\n",
    "6. I eventually realized that I could utilize a for loop to run through the list of transactions and evaluate each value. This would allow for the appropriate calculation to be run for every value in the list.\n",
    "\n"
   ],
   "cell_type": "markdown",
   "metadata": {}
  },
  {
   "source": [
    "# Sample Code\n",
    "---\n",
    "\n",
    "Based on my thought process I initially wrote/defined these two functions\n",
    "\n",
    "    def positive(savings,checking,amount):\n",
    "        checking += (amount * 0.85)\n",
    "        savings += (amount * 0.15)\n",
    "        return checking,savings\n",
    "    def negative(checking,amount):\n",
    "        checking += amount\n",
    "        return checking\n",
    "\n",
    "I didn't think that this code was efficient and decided to simplify my code by utilizing a for loop\n",
    "\n",
    "     for value in transactions:\n",
    "        temp_value = (transactions[num])\n",
    "        if temp_value >= 0:\n",
    "            checking += (temp_value * 0.85)\n",
    "            savings += (temp_value * 0.15)\n",
    "        else:\n",
    "            checking += temp_value\n",
    "        num += 1\n",
    "    return checking, savings\n",
    "\n",
    "The for loop allowed me to add to the exisiting function and eliminate the need for two additional functions. This not only save me several lines of code but made the code easier to understand/follow."
   ],
   "cell_type": "markdown",
   "metadata": {}
  },
  {
   "source": [
    "# Using Markdown\n",
    "---\n",
    "\n",
    "In order to complete this lab I utilized the [Markdown guide](https://www.markdownguide.org) from lesson 5.\n"
   ],
   "cell_type": "markdown",
   "metadata": {}
  }
 ]
}