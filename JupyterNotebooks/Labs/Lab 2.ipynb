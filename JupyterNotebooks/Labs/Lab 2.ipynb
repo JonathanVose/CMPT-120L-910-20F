{
 "metadata": {
  "language_info": {
   "codemirror_mode": {
    "name": "ipython",
    "version": 3
   },
   "file_extension": ".py",
   "mimetype": "text/x-python",
   "name": "python",
   "nbconvert_exporter": "python",
   "pygments_lexer": "ipython3",
   "version": "3.8.5-final"
  },
  "orig_nbformat": 2,
  "kernelspec": {
   "name": "python_defaultSpec_1599931183906",
   "display_name": "Python 3.8.5 64-bit"
  }
 },
 "nbformat": 4,
 "nbformat_minor": 2,
 "cells": [
  {
   "cell_type": "markdown",
   "metadata": {},
   "source": [
    "# Lab Two\n",
    "---\n",
    "\n",
    "For this lab we're going to get into logic\n",
    "\n",
    "Our Goals are:\n",
    "- Using Conditionals\n",
    "- Using Loops\n",
    "- Creating a Function\n",
    "- Using a Class"
   ]
  },
  {
   "cell_type": "code",
   "execution_count": 1,
   "metadata": {
    "tags": []
   },
   "outputs": [
    {
     "output_type": "stream",
     "name": "stdout",
     "text": "You can legally drink.\n"
    }
   ],
   "source": [
    "# Create an if statement\n",
    "\n",
    "age = 21\n",
    "\n",
    "if age == 21:\n",
    "    print(\"You can legally drink.\")"
   ]
  },
  {
   "cell_type": "code",
   "execution_count": 67,
   "metadata": {
    "tags": []
   },
   "outputs": [
    {
     "output_type": "stream",
     "name": "stdout",
     "text": "You are not allowed to drink.\n"
    }
   ],
   "source": [
    "# Create an if else statement\n",
    "\n",
    "age = 20\n",
    "\n",
    "if age == 21:\n",
    "    print(\"You are allowed to drink!\")\n",
    "else:\n",
    "    print(\"You are not allowed to drink.\")\n",
    "    "
   ]
  },
  {
   "cell_type": "code",
   "execution_count": 68,
   "metadata": {
    "tags": []
   },
   "outputs": [
    {
     "output_type": "stream",
     "name": "stdout",
     "text": "You have more than enough money to buy this computer.\n"
    }
   ],
   "source": [
    "# Create an if elif else statement\n",
    "\n",
    "allowance = 200\n",
    "computer = 200\n",
    "\n",
    "if allowance >= computer:\n",
    "    print(\"You have more than enough money to buy this computer.\")\n",
    "elif allowance == computer: \n",
    "    print(\"You have just enough money to buy this computer.\")\n",
    "else:\n",
    "    print(\"You do not have enough money to buy this computer.\") \n"
   ]
  },
  {
   "cell_type": "code",
   "execution_count": 69,
   "metadata": {
    "tags": []
   },
   "outputs": [
    {
     "output_type": "stream",
     "name": "stdout",
     "text": "0\n1\n2\n3\n4\n5\n6\n7\n8\n9\n"
    }
   ],
   "source": [
    "# Create a for loop using range(). Go from 0 to 9. Print out each number.\n",
    "\n",
    "for number in range(10):\n",
    "    print(number)"
   ]
  },
  {
   "cell_type": "code",
   "execution_count": 70,
   "metadata": {
    "tags": []
   },
   "outputs": [
    {
     "output_type": "stream",
     "name": "stdout",
     "text": "Blue\nYellow\nRed\nGreen\nPurple\nMagenta\nLilac\n\n7\n"
    }
   ],
   "source": [
    "# Create a for loop iterating through this list and printing out the value.\n",
    "arr = ['Blue', 'Yellow', 'Red', 'Green', 'Purple', 'Magenta', 'Lilac']\n",
    "\n",
    "for color in arr:\n",
    "    print(color)\n",
    "\n",
    "# Get the length of the list above and print it.\n",
    "\n",
    "print(\"\")\n",
    "length = 0\n",
    "for color in arr:\n",
    "    length += 1\n",
    "print(length)"
   ]
  },
  {
   "cell_type": "code",
   "execution_count": 71,
   "metadata": {
    "tags": []
   },
   "outputs": [
    {
     "output_type": "stream",
     "name": "stdout",
     "text": "Round: 1\nRound: 2\nRound: 3\nRound: 4\nRound: 5\nRound: 6\n"
    }
   ],
   "source": [
    "# Create a while loop that ends after 6 times through. Print something for each pass.\n",
    "\n",
    "round = 0\n",
    "\n",
    "while round != 6:\n",
    "    round += 1\n",
    "    print(\"Round: \" + str(round))"
   ]
  },
  {
   "cell_type": "code",
   "execution_count": 72,
   "metadata": {
    "tags": []
   },
   "outputs": [
    {
     "output_type": "stream",
     "name": "stdout",
     "text": "50\n"
    }
   ],
   "source": [
    "# Create a function to add 2 numbers together. Print out the number\n",
    "\n",
    "def addition_function(num1,num2):\n",
    "    final_value = num1 + num2\n",
    "    print(final_value)\n",
    "\n",
    "value_1 = int(input(\"Input number one: \"))\n",
    "value_2 = int(input(\"Input number two: \"))\n",
    "addition_function(value_1,value_2)\n",
    "\n"
   ]
  },
  {
   "cell_type": "code",
   "execution_count": 73,
   "metadata": {
    "tags": []
   },
   "outputs": [
    {
     "output_type": "stream",
     "name": "stdout",
     "text": "Odd\n"
    }
   ],
   "source": [
    "# Create a function that tells you if a number is odd or even and print the result.\n",
    "\n",
    "def odd_or_even(num):\n",
    "    if num % 2 == 0:\n",
    "        value = \"Even\"\n",
    "    else:\n",
    "        value = \"Odd\"\n",
    "    print(value)\n",
    "\n",
    "my_number = int(input(\"Please enter a number: \"))\n",
    "odd_or_even(my_number)\n"
   ]
  },
  {
   "cell_type": "code",
   "execution_count": 57,
   "metadata": {
    "tags": []
   },
   "outputs": [
    {
     "output_type": "stream",
     "name": "stdout",
     "text": "Name: Lacey\nWeight: 25 Pounds\nHeight: 15 Inches\nBreed: Pomsky\n"
    }
   ],
   "source": [
    "# Initialize an instance of the following class. Use a variable to store the object and then call the info function to print out the attributes.\n",
    "class Dog(object):\n",
    "    def __init__(self, name, height, weight, breed):\n",
    "        self.name = name\n",
    "        self.height = height\n",
    "        self.weight = weight\n",
    "        self.breed = breed\n",
    "\n",
    "    def info(self):\n",
    "        print(\"Name:\", self.name)\n",
    "        print(\"Weight:\", str(self.weight) + \" Pounds\")\n",
    "        print(\"Height:\", str(self.height) + \" Inches\")\n",
    "        print(\"Breed:\", self.breed)\n",
    "    \n",
    "if __name__ == \"__main__\":\n",
    "    my_dog = Dog(\"Lacey\", 15, 25, \"Pomsky\")\n",
    "    my_dog.info() \n",
    "\n",
    "    "
   ]
  }
 ]
}