{
 "metadata": {
  "language_info": {
   "codemirror_mode": {
    "name": "ipython",
    "version": 3
   },
   "file_extension": ".py",
   "mimetype": "text/x-python",
   "name": "python",
   "nbconvert_exporter": "python",
   "pygments_lexer": "ipython3",
   "version": "3.8.5-final"
  },
  "orig_nbformat": 2,
  "kernelspec": {
   "name": "python_defaultSpec_1599161019524",
   "display_name": "Python 3.6.10 64-bit"
  }
 },
 "nbformat": 4,
 "nbformat_minor": 2,
 "cells": [
  {
   "cell_type": "markdown",
   "metadata": {},
   "source": [
    "# Lab One\n",
    "---\n",
    "\n",
    "Ok for this lab we're going to reiterate a lot of the things that we went over in class.\n",
    "\n",
    "Our Goals are:\n",
    "- Defining variables\n",
    "- Using math\n",
    "- Manipulating variables\n",
    "- Changing data types\n",
    "- Playing with lists"
   ]
  },
  {
   "cell_type": "code",
   "execution_count": 1,
   "metadata": {
    "tags": []
   },
   "outputs": [
    {
     "output_type": "stream",
     "name": "stdout",
     "text": "Jonathan\n21\nTrue\n3.14159\n"
    }
   ],
   "source": [
    "# Define 4 variables, one of each type listed: [Integer, String, Boolean, Float]. Print all 4.\n",
    "\n",
    "my_name = \"Jonathan\"\n",
    "my_age = 21\n",
    "brown_eyes = True\n",
    "favorite_number = 3.14159\n",
    "\n",
    "print(my_name)\n",
    "print(my_age)\n",
    "print(brown_eyes)\n",
    "print(favorite_number)\n",
    "\n"
   ]
  },
  {
   "cell_type": "code",
   "execution_count": 2,
   "metadata": {
    "tags": []
   },
   "outputs": [
    {
     "output_type": "stream",
     "name": "stdout",
     "text": "600\n400\n5.0\n50000\n100\n"
    }
   ],
   "source": [
    "# With whatever variables you'd like demonstrate the following: [Addition, Subtraction, Division, Multiplication, Modulo]. Print all 5.\n",
    "\n",
    "input_one = 100\n",
    "input_two = 500\n",
    "\n",
    "math_addition = input_one + input_two\n",
    "math_subtraction = input_two - input_one\n",
    "math_division = input_two / input_one\n",
    "math_multiplication = input_one * input_two\n",
    "math_modulo = input_one % input_two\n",
    "\n",
    "print(math_addition)\n",
    "print(math_subtraction)\n",
    "print(math_division)\n",
    "print(math_multiplication)\n",
    "print(math_modulo)\n"
   ]
  },
  {
   "cell_type": "code",
   "execution_count": 3,
   "metadata": {},
   "outputs": [],
   "source": [
    "# Using 2 variables and addition print the number 57\n",
    "\n",
    "num_one = 50\n",
    "num_two = 7\n",
    "\n",
    "answer = num_one + num_two"
   ]
  },
  {
   "cell_type": "code",
   "execution_count": 4,
   "metadata": {
    "tags": []
   },
   "outputs": [
    {
     "output_type": "stream",
     "name": "stdout",
     "text": "37\n<class 'str'>\n10\n<class 'int'>\n299.99\n<class 'float'>\nTrue\n<class 'bool'>\n"
    }
   ],
   "source": [
    "# Change this variable to a string and print\n",
    "number_into_string = 37\n",
    "number_into_string = str(number_into_string)\n",
    "print(number_into_string)\n",
    "print(type(number_into_string))\n",
    "# Change this variable to a integer and print\n",
    "string_into_number = '10'\n",
    "string_into_number = int(string_into_number)\n",
    "print(string_into_number)\n",
    "print(type(string_into_number))\n",
    "# Change this variable to a float and print\n",
    "string_into_float = '299.99'\n",
    "string_into_float = float(string_into_float)\n",
    "print(string_into_float)\n",
    "print(type(string_into_float))\n",
    "# Change this variable to a boolean and print\n",
    "number_into_boolean = 37\n",
    "number_into_boolean = bool(number_into_boolean)\n",
    "print(number_into_boolean)\n",
    "print(type(number_into_boolean))\n"
   ]
  },
  {
   "cell_type": "code",
   "execution_count": 5,
   "metadata": {
    "tags": []
   },
   "outputs": [
    {
     "output_type": "stream",
     "name": "stdout",
     "text": "['A', 'B', 'C', 'D', 'F']\n"
    }
   ],
   "source": [
    "# Make me a list of any type\n",
    "\n",
    "grades = [\"A\",\"B\",\"C\",\"D\",\"F\"]\n",
    "print(grades)\n"
   ]
  }
 ]
}